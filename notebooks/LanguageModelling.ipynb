{
 "cells": [
  {
   "cell_type": "markdown",
   "metadata": {
    "colab_type": "text",
    "id": "view-in-github"
   },
   "source": [
    "<a href=\"https://colab.research.google.com/github/adimyth/legal_language_model/blob/master/notebooks/LanguageModelling.ipynb\" target=\"_parent\"><img src=\"https://colab.research.google.com/assets/colab-badge.svg\" alt=\"Open In Colab\"/></a>"
   ]
  },
  {
   "cell_type": "markdown",
   "metadata": {
    "colab_type": "text",
    "id": "1RGN53TJNPSz"
   },
   "source": [
    "## Cloning the repo"
   ]
  },
  {
   "cell_type": "code",
   "execution_count": 0,
   "metadata": {
    "colab": {
     "base_uri": "https://localhost:8080/",
     "height": 119
    },
    "colab_type": "code",
    "id": "3eR4GY2oNGxc",
    "outputId": "ca158248-dba2-489f-cb49-0590b7e97858"
   },
   "outputs": [
    {
     "name": "stdout",
     "output_type": "stream",
     "text": [
      "Cloning into 'legal_language_model'...\n",
      "remote: Enumerating objects: 10, done.\u001b[K\n",
      "remote: Counting objects: 100% (10/10), done.\u001b[K\n",
      "remote: Compressing objects: 100% (8/8), done.\u001b[K\n",
      "remote: Total 10 (delta 0), reused 10 (delta 0), pack-reused 0\u001b[K\n",
      "Unpacking objects: 100% (10/10), done.\n"
     ]
    }
   ],
   "source": [
    "!git clone https://github.com/adimyth/legal_language_model.git"
   ]
  },
  {
   "cell_type": "code",
   "execution_count": 0,
   "metadata": {
    "colab": {
     "base_uri": "https://localhost:8080/",
     "height": 34
    },
    "colab_type": "code",
    "id": "Vt7w-H3QNTyw",
    "outputId": "3c56b57e-9da4-4795-f247-8fe179de5399"
   },
   "outputs": [
    {
     "name": "stdout",
     "output_type": "stream",
     "text": [
      "/content/legal_language_model\n"
     ]
    }
   ],
   "source": [
    "%cd legal_language_model/"
   ]
  },
  {
   "cell_type": "markdown",
   "metadata": {
    "colab_type": "text",
    "id": "DPkNiWKmAv90"
   },
   "source": [
    "## Imports"
   ]
  },
  {
   "cell_type": "code",
   "execution_count": 0,
   "metadata": {
    "colab": {},
    "colab_type": "code",
    "id": "AbF05jxXPadd"
   },
   "outputs": [],
   "source": [
    "import pandas as pd\n",
    "from fastai.text import *\n",
    "from pathlib import Path\n",
    "from tqdm import tqdm"
   ]
  },
  {
   "cell_type": "code",
   "execution_count": 0,
   "metadata": {
    "colab": {},
    "colab_type": "code",
    "id": "2pREnUYGPagB"
   },
   "outputs": [],
   "source": [
    "base_path = Path('.')\n",
    "path = base_path/'judgements.csv'\n",
    "BATCH_SIZE = 64"
   ]
  },
  {
   "cell_type": "markdown",
   "metadata": {
    "colab_type": "text",
    "id": "WleYGY6jpu3j"
   },
   "source": [
    "## Sanity"
   ]
  },
  {
   "cell_type": "code",
   "execution_count": 0,
   "metadata": {
    "colab": {},
    "colab_type": "code",
    "id": "isg1qd_tpkYR"
   },
   "outputs": [],
   "source": [
    "import tensorflow as tf\n",
    "config = tf.ConfigProto()\n",
    "config.gpu_options.allow_growth=True\n",
    "sess = tf.Session(config=config)"
   ]
  },
  {
   "cell_type": "markdown",
   "metadata": {
    "colab_type": "text",
    "id": "wja-u929N-jH"
   },
   "source": [
    "## Configurations"
   ]
  },
  {
   "cell_type": "code",
   "execution_count": 0,
   "metadata": {
    "colab": {},
    "colab_type": "code",
    "id": "dueC_OPiOTxR"
   },
   "outputs": [],
   "source": [
    "%reload_ext autoreload\n",
    "%autoreload 2\n",
    "%matplotlib inline"
   ]
  },
  {
   "cell_type": "code",
   "execution_count": 0,
   "metadata": {
    "colab": {
     "base_uri": "https://localhost:8080/",
     "height": 34
    },
    "colab_type": "code",
    "id": "4x1Y0ArqN9hI",
    "outputId": "34058acb-30c9-4f50-a204-12163533289f"
   },
   "outputs": [
    {
     "name": "stdout",
     "output_type": "stream",
     "text": [
      "Writing .env\n"
     ]
    }
   ],
   "source": [
    "%%writefile .env\n",
    "user=justiceleague\n",
    "password=justiceleagueadmin\n",
    "dbname=justiceleaguedb\n",
    "host=justiceleaguedb.cjlmdpabvwhv.ap-south-1.rds.amazonaws.com\n",
    "port=5432"
   ]
  },
  {
   "cell_type": "markdown",
   "metadata": {
    "colab_type": "text",
    "id": "8Xgog1roOEaG"
   },
   "source": [
    "## Downloading Legal Data"
   ]
  },
  {
   "cell_type": "code",
   "execution_count": 0,
   "metadata": {
    "colab": {
     "base_uri": "https://localhost:8080/",
     "height": 105
    },
    "colab_type": "code",
    "id": "eGJJj8gwODaT",
    "outputId": "70455c79-27e4-4520-fe69-5c720bba4534"
   },
   "outputs": [
    {
     "name": "stdout",
     "output_type": "stream",
     "text": [
      "Collecting python-dotenv\n",
      "  Downloading https://files.pythonhosted.org/packages/8c/14/501508b016e7b1ad0eb91bba581e66ad9bfc7c66fcacbb580eaf9bc38458/python_dotenv-0.10.1-py2.py3-none-any.whl\n",
      "Installing collected packages: python-dotenv\n",
      "Successfully installed python-dotenv-0.10.1\n"
     ]
    }
   ],
   "source": [
    "!pip install python-dotenv"
   ]
  },
  {
   "cell_type": "code",
   "execution_count": 0,
   "metadata": {
    "colab": {
     "base_uri": "https://localhost:8080/",
     "height": 71
    },
    "colab_type": "code",
    "id": "YYiBYI4FOJmf",
    "outputId": "d7f8ee04-c7d7-475f-d6fa-1477d9a57dd5"
   },
   "outputs": [
    {
     "name": "stdout",
     "output_type": "stream",
     "text": [
      "/usr/local/lib/python3.6/dist-packages/psycopg2/__init__.py:144: UserWarning: The psycopg2 wheel package will be renamed from release 2.8; in order to keep installing from binary please use \"pip install psycopg2-binary\" instead. For details see: <http://initd.org/psycopg/docs/install.html#binary-install-from-pypi>.\n",
      "  \"\"\")\n"
     ]
    }
   ],
   "source": [
    "!python extractor.py"
   ]
  },
  {
   "cell_type": "code",
   "execution_count": 0,
   "metadata": {
    "colab": {},
    "colab_type": "code",
    "id": "tsBy1nMhPaic"
   },
   "outputs": [],
   "source": [
    "df = pd.read_csv(path, encoding='latin-1')"
   ]
  },
  {
   "cell_type": "code",
   "execution_count": 0,
   "metadata": {
    "colab": {
     "base_uri": "https://localhost:8080/",
     "height": 204
    },
    "colab_type": "code",
    "id": "jCfidl0mPas0",
    "outputId": "b772894e-12aa-417a-b20f-c8ac8bde4a7c"
   },
   "outputs": [
    {
     "data": {
      "text/html": [
       "<div>\n",
       "<style scoped>\n",
       "    .dataframe tbody tr th:only-of-type {\n",
       "        vertical-align: middle;\n",
       "    }\n",
       "\n",
       "    .dataframe tbody tr th {\n",
       "        vertical-align: top;\n",
       "    }\n",
       "\n",
       "    .dataframe thead th {\n",
       "        text-align: right;\n",
       "    }\n",
       "</style>\n",
       "<table border=\"1\" class=\"dataframe\">\n",
       "  <thead>\n",
       "    <tr style=\"text-align: right;\">\n",
       "      <th></th>\n",
       "      <th>text</th>\n",
       "    </tr>\n",
       "  </thead>\n",
       "  <tbody>\n",
       "    <tr>\n",
       "      <th>0</th>\n",
       "      <td>http://JUDIS.NIC.IN SUPREME COURT OF INDIA Pag...</td>\n",
       "    </tr>\n",
       "    <tr>\n",
       "      <th>1</th>\n",
       "      <td>http://JUDIS.NIC.IN SUPREME COURT OF INDIA Pag...</td>\n",
       "    </tr>\n",
       "    <tr>\n",
       "      <th>2</th>\n",
       "      <td>http://JUDIS.NIC.IN SUPREME COURT OF INDIA Pag...</td>\n",
       "    </tr>\n",
       "    <tr>\n",
       "      <th>3</th>\n",
       "      <td>http://JUDIS.NIC.IN SUPREME COURT OF INDIA Pag...</td>\n",
       "    </tr>\n",
       "    <tr>\n",
       "      <th>4</th>\n",
       "      <td>http://JUDIS.NIC.IN SUPREME COURT OF INDIA Pag...</td>\n",
       "    </tr>\n",
       "  </tbody>\n",
       "</table>\n",
       "</div>"
      ],
      "text/plain": [
       "                                                text\n",
       "0  http://JUDIS.NIC.IN SUPREME COURT OF INDIA Pag...\n",
       "1  http://JUDIS.NIC.IN SUPREME COURT OF INDIA Pag...\n",
       "2  http://JUDIS.NIC.IN SUPREME COURT OF INDIA Pag...\n",
       "3  http://JUDIS.NIC.IN SUPREME COURT OF INDIA Pag...\n",
       "4  http://JUDIS.NIC.IN SUPREME COURT OF INDIA Pag..."
      ]
     },
     "execution_count": 7,
     "metadata": {
      "tags": []
     },
     "output_type": "execute_result"
    }
   ],
   "source": [
    "df.head()"
   ]
  },
  {
   "cell_type": "markdown",
   "metadata": {
    "colab_type": "text",
    "id": "RML6WsQrPmoX"
   },
   "source": [
    "## Extracting only judgements"
   ]
  },
  {
   "cell_type": "code",
   "execution_count": 0,
   "metadata": {
    "colab": {},
    "colab_type": "code",
    "id": "OrsSgdHNPkb8"
   },
   "outputs": [],
   "source": [
    "df['text'] = df['text'].str.partition('JUDGMENT')[2]"
   ]
  },
  {
   "cell_type": "code",
   "execution_count": 0,
   "metadata": {
    "colab": {
     "base_uri": "https://localhost:8080/",
     "height": 34
    },
    "colab_type": "code",
    "id": "_meYtcyQkEWl",
    "outputId": "a1aa7c6d-4953-48e7-b5c9-392c43e7ba31"
   },
   "outputs": [
    {
     "data": {
      "text/plain": [
       "352"
      ]
     },
     "execution_count": 9,
     "metadata": {
      "tags": []
     },
     "output_type": "execute_result"
    }
   ],
   "source": [
    "len([text for text in df['text'].tolist() if text == ''])"
   ]
  },
  {
   "cell_type": "code",
   "execution_count": 0,
   "metadata": {
    "colab": {
     "base_uri": "https://localhost:8080/",
     "height": 34
    },
    "colab_type": "code",
    "id": "YCyH6D_vky4Y",
    "outputId": "507fda58-da73-4835-d4dc-0025ce8dfd13"
   },
   "outputs": [
    {
     "data": {
      "text/plain": [
       "(10000, 1)"
      ]
     },
     "execution_count": 10,
     "metadata": {
      "tags": []
     },
     "output_type": "execute_result"
    }
   ],
   "source": [
    "df.shape"
   ]
  },
  {
   "cell_type": "code",
   "execution_count": 0,
   "metadata": {
    "colab": {},
    "colab_type": "code",
    "id": "IELtYfkwkpYY"
   },
   "outputs": [],
   "source": [
    "df = df.query('text != \"\"')"
   ]
  },
  {
   "cell_type": "code",
   "execution_count": 0,
   "metadata": {
    "colab": {
     "base_uri": "https://localhost:8080/",
     "height": 34
    },
    "colab_type": "code",
    "id": "RhKLUGqvk0k_",
    "outputId": "ee30cfc7-741a-424c-f762-3ecc890d7f0d"
   },
   "outputs": [
    {
     "data": {
      "text/plain": [
       "(9648, 1)"
      ]
     },
     "execution_count": 12,
     "metadata": {
      "tags": []
     },
     "output_type": "execute_result"
    }
   ],
   "source": [
    "df.shape"
   ]
  },
  {
   "cell_type": "code",
   "execution_count": 0,
   "metadata": {
    "colab": {
     "base_uri": "https://localhost:8080/",
     "height": 119
    },
    "colab_type": "code",
    "id": "aXhAcC6XPpsc",
    "outputId": "c434656c-66e0-45f0-9a5f-1ed3a9f53910"
   },
   "outputs": [
    {
     "data": {
      "text/plain": [
       "0    :\\n21/12/1950\\n\\nBENCH:\\nKANIA, HIRALAL J. (CJ...\n",
       "1    :\\n21/12/1950\\n\\nBENCH:\\nKANIA, HIRALAL J. (CJ...\n",
       "2    :\\n21/12/1950\\n\\nBENCH:\\nKANIA, HIRALAL J. (CJ...\n",
       "3    :\\n21/12/1950\\n\\nBENCH:\\nFAZAL ALI, SAIYID\\nBE...\n",
       "4    :\\n20/12/1950\\n\\nBENCH:\\nFAZAL ALI, SAIYID\\nBE...\n",
       "Name: text, dtype: object"
      ]
     },
     "execution_count": 13,
     "metadata": {
      "tags": []
     },
     "output_type": "execute_result"
    }
   ],
   "source": [
    "df['text'].head()"
   ]
  },
  {
   "cell_type": "code",
   "execution_count": 0,
   "metadata": {
    "colab": {},
    "colab_type": "code",
    "id": "EMT2IN2XPrdF"
   },
   "outputs": [],
   "source": [
    "df['label'] = [0]*df.shape[0]"
   ]
  },
  {
   "cell_type": "code",
   "execution_count": 0,
   "metadata": {
    "colab": {},
    "colab_type": "code",
    "id": "RpiAxkEZQNwe"
   },
   "outputs": [],
   "source": [
    "df.to_csv(base_path/'intermediate.csv', index=False)"
   ]
  },
  {
   "cell_type": "markdown",
   "metadata": {
    "colab_type": "text",
    "id": "zpOY2kc8pEwz"
   },
   "source": [
    "## Saving each judgement as a text file"
   ]
  },
  {
   "cell_type": "code",
   "execution_count": 0,
   "metadata": {
    "colab": {},
    "colab_type": "code",
    "id": "zm-rD_ZpppgY"
   },
   "outputs": [],
   "source": [
    "!mkdir data"
   ]
  },
  {
   "cell_type": "code",
   "execution_count": 0,
   "metadata": {
    "colab": {
     "base_uri": "https://localhost:8080/",
     "height": 34
    },
    "colab_type": "code",
    "id": "vMC4lY9KpINl",
    "outputId": "e6dcd4ff-955c-4e6a-da32-143984f838d8"
   },
   "outputs": [
    {
     "name": "stderr",
     "output_type": "stream",
     "text": [
      "9648it [00:01, 6008.69it/s]\n"
     ]
    }
   ],
   "source": [
    "for idx, row in tqdm(df['text'].iteritems()):\n",
    "    file_title = base_path/f'data/{idx}.txt'\n",
    "    with open(file_title, 'w') as file:\n",
    "      file.write(row)"
   ]
  },
  {
   "cell_type": "markdown",
   "metadata": {
    "colab_type": "text",
    "id": "XDvD5t-4QPVA"
   },
   "source": [
    "## Text Language Model"
   ]
  },
  {
   "cell_type": "code",
   "execution_count": 0,
   "metadata": {
    "colab": {
     "base_uri": "https://localhost:8080/",
     "height": 51
    },
    "colab_type": "code",
    "id": "R-Stt3qKHGGT",
    "outputId": "48c83173-0144-4a36-9760-53c95a5e2642"
   },
   "outputs": [
    {
     "name": "stdout",
     "output_type": "stream",
     "text": [
      "conda.yml  data_lm.pkl\t intermediate.csv  legal_language_model  notebooks\n",
      "data\t   extractor.py  judgements.csv    models\t\t README.md\n"
     ]
    }
   ],
   "source": [
    "!ls"
   ]
  },
  {
   "cell_type": "code",
   "execution_count": 0,
   "metadata": {
    "colab": {},
    "colab_type": "code",
    "id": "IAz4CtV3gcYc"
   },
   "outputs": [],
   "source": [
    "trn_texts = df.loc[0:8000, 'text'].values\n",
    "trn_labels = df.loc[0:8000, 'label'].values\n",
    "val_texts = df.loc[8000:10000, 'text'].values\n",
    "val_labels = df.loc[8000:10000, 'label'].values\n",
    "np.random.seed(42)\n",
    "trn_idx = np.random.permutation(len(trn_texts))\n",
    "val_idx = np.random.permutation(len(val_texts))\n",
    "trn_texts = trn_texts[trn_idx]\n",
    "val_texts = val_texts[val_idx]\n",
    "trn_labels = trn_labels[trn_idx]\n",
    "val_labels = val_labels[val_idx]\n",
    "col_names = ['labels','text']\n",
    "df_trn = pd.DataFrame({'text':trn_texts, 'labels':trn_labels}, columns=col_names)\n",
    "df_val = pd.DataFrame({'text':val_texts, 'labels':val_labels}, columns=col_names)\n"
   ]
  },
  {
   "cell_type": "code",
   "execution_count": 0,
   "metadata": {
    "colab": {},
    "colab_type": "code",
    "id": "iuC2nBs5iEyY"
   },
   "outputs": [],
   "source": [
    "data_lm = TextLMDataBunch.from_df('./', train_df=df_trn, valid_df=df_val)"
   ]
  },
  {
   "cell_type": "code",
   "execution_count": 19,
   "metadata": {
    "colab": {
     "base_uri": "https://localhost:8080/",
     "height": 374
    },
    "colab_type": "code",
    "id": "3hyXL2D_Xvvj",
    "outputId": "82a810dc-e88d-4f4d-bbc5-211a764d68e4"
   },
   "outputs": [
    {
     "data": {
      "text/html": [
       "<table border=\"1\" class=\"dataframe\">\n",
       "  <thead>\n",
       "    <tr style=\"text-align: right;\">\n",
       "      <th>idx</th>\n",
       "      <th>text</th>\n",
       "    </tr>\n",
       "  </thead>\n",
       "  <tbody>\n",
       "    <tr>\n",
       "      <td>0</td>\n",
       "      <td>info : \\n  xxup rf 1992 xxup xxunk ( 5 ) \\n \\n  xxup act : \\n  xxmaj arbitration xxmaj act ( 10 of 1940 ) , xxmaj sch . 1 , para . 4 - -appointment \\n  of umpire by arbitrators - xxmaj whether consent of umpire \\n  necessary - xxmaj disagreement between arbitrators what is . \\n \\n  xxup headnote : \\n</td>\n",
       "    </tr>\n",
       "    <tr>\n",
       "      <td>1</td>\n",
       "      <td>binding material not exceeding 0.625 xxmaj kilograms per \\n  quintal of sugarcane ; and , \\n  x x x \\n  xxmaj clause 4 conferred power on the xxmaj central xxmaj government or a \\n  xxmaj state xxmaj government with the concurrence of the xxmaj central \\n  xxmaj government to fix the minimum price or the price of \\n  sugarcane to be paid by producers</td>\n",
       "    </tr>\n",
       "    <tr>\n",
       "      <td>2</td>\n",
       "      <td>correlation between the amount \\n  paid by way of cess under the xxmaj act and the services rendered \\n  to the person from whom it is collected . xxmaj the impost in these \\n  cases lacks the essential qualification of a fee namely \\n  âthat it is absolutely necessary that the levy of fees \\n  should on the face of the legislative provision , be</td>\n",
       "    </tr>\n",
       "    <tr>\n",
       "      <td>3</td>\n",
       "      <td>law must have universal application for all \\n  351 \\n  persons who are not by nature , attainment or circumstances \\n  in the same position , and the varying needs of different \\n  classes of persons often require separate treatment . \\n  4 . xxmaj the principle does not take away from the xxmaj state \\n  the power of classifying persons for legitimate purposes</td>\n",
       "    </tr>\n",
       "    <tr>\n",
       "      <td>4</td>\n",
       "      <td>for xxup ms - xxup hsd . xxmaj the \\n  applicant has stated that he is a \\n  graduate from xxmaj xxunk and xxmaj kashmir , \\n  who has been forced to migrate from \\n  xxmaj kashmir as result of militant \\n  threats to his life . xxmaj the applicant \\n  has also state that he has no \\n  regular source of income</td>\n",
       "    </tr>\n",
       "  </tbody>\n",
       "</table>"
      ],
      "text/plain": [
       "<IPython.core.display.HTML object>"
      ]
     },
     "metadata": {
      "tags": []
     },
     "output_type": "display_data"
    }
   ],
   "source": [
    "data_lm.show_batch()"
   ]
  },
  {
   "cell_type": "code",
   "execution_count": 0,
   "metadata": {
    "colab": {},
    "colab_type": "code",
    "id": "wt8Az3urf6PE"
   },
   "outputs": [],
   "source": [
    "# data_lm = (TextList.from_folder(base_path/'data')\n",
    "#          .split_by_rand_pct(0.1)\n",
    "#            .label_for_lm()\n",
    "#            .databunch(bs=BATCH_SIZE))"
   ]
  },
  {
   "cell_type": "code",
   "execution_count": 0,
   "metadata": {
    "colab": {},
    "colab_type": "code",
    "id": "SJXH3QmNyaLd"
   },
   "outputs": [],
   "source": [
    "data_lm.save('data_lm.pkl')"
   ]
  },
  {
   "cell_type": "code",
   "execution_count": 23,
   "metadata": {
    "colab": {
     "base_uri": "https://localhost:8080/",
     "height": 357
    },
    "colab_type": "code",
    "id": "ziFEJ535ScCb",
    "outputId": "820b28e4-feb0-496c-8e24-e00c41bd0a30"
   },
   "outputs": [
    {
     "data": {
      "text/plain": [
       "['xxunk',\n",
       " 'xxpad',\n",
       " 'xxbos',\n",
       " 'xxeos',\n",
       " 'xxfld',\n",
       " 'xxmaj',\n",
       " 'xxup',\n",
       " 'xxrep',\n",
       " 'xxwrep',\n",
       " '\\n ',\n",
       " 'the',\n",
       " 'of',\n",
       " ',',\n",
       " '.',\n",
       " 'to',\n",
       " 'in',\n",
       " 'and',\n",
       " 'that',\n",
       " 'a',\n",
       " 'is']"
      ]
     },
     "execution_count": 23,
     "metadata": {
      "tags": []
     },
     "output_type": "execute_result"
    }
   ],
   "source": [
    "data_lm.vocab.itos[:20]"
   ]
  },
  {
   "cell_type": "code",
   "execution_count": 0,
   "metadata": {
    "colab": {},
    "colab_type": "code",
    "id": "N1bT8xDjQTun"
   },
   "outputs": [],
   "source": [
    "data_lm = load_data(base_path, 'data_lm.pkl', bs=BATCH_SIZE)"
   ]
  },
  {
   "cell_type": "code",
   "execution_count": 42,
   "metadata": {
    "colab": {
     "base_uri": "https://localhost:8080/",
     "height": 374
    },
    "colab_type": "code",
    "id": "3er1fTBmoBrz",
    "outputId": "4d1faa42-99f4-4e82-fded-ecef7d54532f"
   },
   "outputs": [
    {
     "data": {
      "text/html": [
       "<table border=\"1\" class=\"dataframe\">\n",
       "  <thead>\n",
       "    <tr style=\"text-align: right;\">\n",
       "      <th>idx</th>\n",
       "      <th>text</th>\n",
       "    </tr>\n",
       "  </thead>\n",
       "  <tbody>\n",
       "    <tr>\n",
       "      <td>0</td>\n",
       "      <td>info : \\n  xxup rf 1992 xxup xxunk ( 5 ) \\n \\n  xxup act : \\n  xxmaj arbitration xxmaj act ( 10 of 1940 ) , xxmaj sch . 1 , para . 4 - -appointment \\n  of umpire by arbitrators - xxmaj whether consent of umpire \\n  necessary - xxmaj disagreement between arbitrators what is . \\n \\n  xxup headnote : \\n</td>\n",
       "    </tr>\n",
       "    <tr>\n",
       "      <td>1</td>\n",
       "      <td>binding material not exceeding 0.625 xxmaj kilograms per \\n  quintal of sugarcane ; and , \\n  x x x \\n  xxmaj clause 4 conferred power on the xxmaj central xxmaj government or a \\n  xxmaj state xxmaj government with the concurrence of the xxmaj central \\n  xxmaj government to fix the minimum price or the price of \\n  sugarcane to be paid by producers</td>\n",
       "    </tr>\n",
       "    <tr>\n",
       "      <td>2</td>\n",
       "      <td>correlation between the amount \\n  paid by way of cess under the xxmaj act and the services rendered \\n  to the person from whom it is collected . xxmaj the impost in these \\n  cases lacks the essential qualification of a fee namely \\n  âthat it is absolutely necessary that the levy of fees \\n  should on the face of the legislative provision , be</td>\n",
       "    </tr>\n",
       "    <tr>\n",
       "      <td>3</td>\n",
       "      <td>law must have universal application for all \\n  351 \\n  persons who are not by nature , attainment or circumstances \\n  in the same position , and the varying needs of different \\n  classes of persons often require separate treatment . \\n  4 . xxmaj the principle does not take away from the xxmaj state \\n  the power of classifying persons for legitimate purposes</td>\n",
       "    </tr>\n",
       "    <tr>\n",
       "      <td>4</td>\n",
       "      <td>for xxup ms - xxup hsd . xxmaj the \\n  applicant has stated that he is a \\n  graduate from xxmaj xxunk and xxmaj kashmir , \\n  who has been forced to migrate from \\n  xxmaj kashmir as result of militant \\n  threats to his life . xxmaj the applicant \\n  has also state that he has no \\n  regular source of income</td>\n",
       "    </tr>\n",
       "  </tbody>\n",
       "</table>"
      ],
      "text/plain": [
       "<IPython.core.display.HTML object>"
      ]
     },
     "metadata": {
      "tags": []
     },
     "output_type": "display_data"
    }
   ],
   "source": [
    "data_lm.show_batch()"
   ]
  },
  {
   "cell_type": "markdown",
   "metadata": {
    "colab_type": "text",
    "id": "njvkQaiwotWB"
   },
   "source": [
    "## Saving pkl to drive"
   ]
  },
  {
   "cell_type": "code",
   "execution_count": 25,
   "metadata": {
    "colab": {
     "base_uri": "https://localhost:8080/",
     "height": 85
    },
    "colab_type": "code",
    "id": "cAF9xlwsornl",
    "outputId": "c1aa0189-4ff4-4d9c-86e7-59b2d0cf6534"
   },
   "outputs": [
    {
     "name": "stdout",
     "output_type": "stream",
     "text": [
      "\u001b[?25l\r",
      "\u001b[K    1% |▎                               | 10kB 28.5MB/s eta 0:00:01\r",
      "\u001b[K    2% |▋                               | 20kB 2.2MB/s eta 0:00:01\r",
      "\u001b[K    3% |█                               | 30kB 3.2MB/s eta 0:00:01\r",
      "\u001b[K    4% |█▎                              | 40kB 2.1MB/s eta 0:00:01\r",
      "\u001b[K    5% |█▋                              | 51kB 2.5MB/s eta 0:00:01\r",
      "\u001b[K    6% |██                              | 61kB 3.0MB/s eta 0:00:01\r",
      "\u001b[K    7% |██▎                             | 71kB 3.5MB/s eta 0:00:01\r",
      "\u001b[K    8% |██▋                             | 81kB 3.9MB/s eta 0:00:01\r",
      "\u001b[K    9% |███                             | 92kB 4.4MB/s eta 0:00:01\r",
      "\u001b[K    10% |███▎                            | 102kB 3.4MB/s eta 0:00:01\r",
      "\u001b[K    11% |███▋                            | 112kB 3.4MB/s eta 0:00:01\r",
      "\u001b[K    12% |████                            | 122kB 4.8MB/s eta 0:00:01\r",
      "\u001b[K    13% |████▎                           | 133kB 4.8MB/s eta 0:00:01\r",
      "\u001b[K    14% |████▋                           | 143kB 9.0MB/s eta 0:00:01\r",
      "\u001b[K    15% |█████                           | 153kB 9.1MB/s eta 0:00:01\r",
      "\u001b[K    16% |█████▎                          | 163kB 9.1MB/s eta 0:00:01\r",
      "\u001b[K    17% |█████▋                          | 174kB 9.2MB/s eta 0:00:01\r",
      "\u001b[K    18% |██████                          | 184kB 9.4MB/s eta 0:00:01\r",
      "\u001b[K    19% |██████▎                         | 194kB 9.4MB/s eta 0:00:01\r",
      "\u001b[K    20% |██████▋                         | 204kB 52.0MB/s eta 0:00:01\r",
      "\u001b[K    21% |███████                         | 215kB 10.0MB/s eta 0:00:01\r",
      "\u001b[K    22% |███████▎                        | 225kB 10.0MB/s eta 0:00:01\r",
      "\u001b[K    23% |███████▋                        | 235kB 10.2MB/s eta 0:00:01\r",
      "\u001b[K    24% |████████                        | 245kB 10.1MB/s eta 0:00:01\r",
      "\u001b[K    25% |████████▎                       | 256kB 10.1MB/s eta 0:00:01\r",
      "\u001b[K    26% |████████▋                       | 266kB 9.9MB/s eta 0:00:01\r",
      "\u001b[K    27% |█████████                       | 276kB 9.9MB/s eta 0:00:01\r",
      "\u001b[K    29% |█████████▎                      | 286kB 10.0MB/s eta 0:00:01\r",
      "\u001b[K    30% |█████████▋                      | 296kB 9.9MB/s eta 0:00:01\r",
      "\u001b[K    31% |██████████                      | 307kB 10.2MB/s eta 0:00:01\r",
      "\u001b[K    32% |██████████▎                     | 317kB 59.8MB/s eta 0:00:01\r",
      "\u001b[K    33% |██████████▋                     | 327kB 60.3MB/s eta 0:00:01\r",
      "\u001b[K    34% |███████████                     | 337kB 60.2MB/s eta 0:00:01\r",
      "\u001b[K    35% |███████████▎                    | 348kB 53.9MB/s eta 0:00:01\r",
      "\u001b[K    36% |███████████▋                    | 358kB 53.8MB/s eta 0:00:01\r",
      "\u001b[K    37% |████████████                    | 368kB 62.8MB/s eta 0:00:01\r",
      "\u001b[K    38% |████████████▎                   | 378kB 63.4MB/s eta 0:00:01\r",
      "\u001b[K    39% |████████████▋                   | 389kB 63.8MB/s eta 0:00:01\r",
      "\u001b[K    40% |█████████████                   | 399kB 11.5MB/s eta 0:00:01\r",
      "\u001b[K    41% |█████████████▎                  | 409kB 11.4MB/s eta 0:00:01\r",
      "\u001b[K    42% |█████████████▋                  | 419kB 11.4MB/s eta 0:00:01\r",
      "\u001b[K    43% |██████████████                  | 430kB 11.4MB/s eta 0:00:01\r",
      "\u001b[K    44% |██████████████▎                 | 440kB 11.4MB/s eta 0:00:01\r",
      "\u001b[K    45% |██████████████▋                 | 450kB 11.5MB/s eta 0:00:01\r",
      "\u001b[K    46% |███████████████                 | 460kB 11.5MB/s eta 0:00:01\r",
      "\u001b[K    47% |███████████████▎                | 471kB 11.5MB/s eta 0:00:01\r",
      "\u001b[K    48% |███████████████▋                | 481kB 11.5MB/s eta 0:00:01\r",
      "\u001b[K    49% |████████████████                | 491kB 11.5MB/s eta 0:00:01\r",
      "\u001b[K    50% |████████████████▎               | 501kB 61.3MB/s eta 0:00:01\r",
      "\u001b[K    51% |████████████████▋               | 512kB 59.3MB/s eta 0:00:01\r",
      "\u001b[K    52% |█████████████████               | 522kB 60.5MB/s eta 0:00:01\r",
      "\u001b[K    53% |█████████████████▎              | 532kB 61.6MB/s eta 0:00:01\r",
      "\u001b[K    54% |█████████████████▋              | 542kB 10.5MB/s eta 0:00:01\r",
      "\u001b[K    55% |██████████████████              | 552kB 10.5MB/s eta 0:00:01\r",
      "\u001b[K    57% |██████████████████▎             | 563kB 10.5MB/s eta 0:00:01\r",
      "\u001b[K    58% |██████████████████▋             | 573kB 10.4MB/s eta 0:00:01\r",
      "\u001b[K    59% |███████████████████             | 583kB 10.4MB/s eta 0:00:01\r",
      "\u001b[K    60% |███████████████████▎            | 593kB 10.4MB/s eta 0:00:01\r",
      "\u001b[K    61% |███████████████████▋            | 604kB 10.4MB/s eta 0:00:01\r",
      "\u001b[K    62% |████████████████████            | 614kB 10.5MB/s eta 0:00:01\r",
      "\u001b[K    63% |████████████████████▎           | 624kB 10.5MB/s eta 0:00:01\r",
      "\u001b[K    64% |████████████████████▋           | 634kB 10.5MB/s eta 0:00:01\r",
      "\u001b[K    65% |█████████████████████           | 645kB 61.7MB/s eta 0:00:01\r",
      "\u001b[K    66% |█████████████████████▎          | 655kB 64.0MB/s eta 0:00:01\r",
      "\u001b[K    67% |█████████████████████▋          | 665kB 49.2MB/s eta 0:00:01\r",
      "\u001b[K    68% |██████████████████████          | 675kB 49.7MB/s eta 0:00:01\r",
      "\u001b[K    69% |██████████████████████▎         | 686kB 50.8MB/s eta 0:00:01\r",
      "\u001b[K    70% |██████████████████████▋         | 696kB 51.8MB/s eta 0:00:01\r",
      "\u001b[K    71% |███████████████████████         | 706kB 52.0MB/s eta 0:00:01\r",
      "\u001b[K    72% |███████████████████████▎        | 716kB 52.9MB/s eta 0:00:01\r",
      "\u001b[K    73% |███████████████████████▋        | 727kB 53.6MB/s eta 0:00:01\r",
      "\u001b[K    74% |████████████████████████        | 737kB 53.3MB/s eta 0:00:01\r",
      "\u001b[K    75% |████████████████████████▎       | 747kB 54.3MB/s eta 0:00:01\r",
      "\u001b[K    76% |████████████████████████▋       | 757kB 54.7MB/s eta 0:00:01\r",
      "\u001b[K    77% |████████████████████████▉       | 768kB 78.1MB/s eta 0:00:01\r",
      "\u001b[K    78% |█████████████████████████▏      | 778kB 79.2MB/s eta 0:00:01\r",
      "\u001b[K    79% |█████████████████████████▌      | 788kB 78.6MB/s eta 0:00:01\r",
      "\u001b[K    80% |█████████████████████████▉      | 798kB 79.3MB/s eta 0:00:01\r",
      "\u001b[K    81% |██████████████████████████▏     | 808kB 79.7MB/s eta 0:00:01\r",
      "\u001b[K    82% |██████████████████████████▌     | 819kB 79.4MB/s eta 0:00:01\r",
      "\u001b[K    83% |██████████████████████████▉     | 829kB 80.2MB/s eta 0:00:01\r",
      "\u001b[K    85% |███████████████████████████▏    | 839kB 80.9MB/s eta 0:00:01\r",
      "\u001b[K    86% |███████████████████████████▌    | 849kB 81.0MB/s eta 0:00:01\r",
      "\u001b[K    87% |███████████████████████████▉    | 860kB 69.2MB/s eta 0:00:01\r",
      "\u001b[K    88% |████████████████████████████▏   | 870kB 67.5MB/s eta 0:00:01\r",
      "\u001b[K    89% |████████████████████████████▌   | 880kB 69.0MB/s eta 0:00:01\r",
      "\u001b[K    90% |████████████████████████████▉   | 890kB 69.4MB/s eta 0:00:01\r",
      "\u001b[K    91% |█████████████████████████████▏  | 901kB 69.2MB/s eta 0:00:01\r",
      "\u001b[K    92% |█████████████████████████████▌  | 911kB 69.6MB/s eta 0:00:01\r",
      "\u001b[K    93% |█████████████████████████████▉  | 921kB 69.1MB/s eta 0:00:01\r",
      "\u001b[K    94% |██████████████████████████████▏ | 931kB 69.2MB/s eta 0:00:01\r",
      "\u001b[K    95% |██████████████████████████████▌ | 942kB 69.4MB/s eta 0:00:01\r",
      "\u001b[K    96% |██████████████████████████████▉ | 952kB 68.8MB/s eta 0:00:01\r",
      "\u001b[K    97% |███████████████████████████████▏| 962kB 82.3MB/s eta 0:00:01\r",
      "\u001b[K    98% |███████████████████████████████▌| 972kB 84.4MB/s eta 0:00:01\r",
      "\u001b[K    99% |███████████████████████████████▉| 983kB 83.1MB/s eta 0:00:01\r",
      "\u001b[K    100% |████████████████████████████████| 993kB 22.9MB/s \n",
      "\u001b[?25h  Building wheel for PyDrive (setup.py) ... \u001b[?25ldone\n",
      "\u001b[?25hUploaded file with ID 15vAPNCabqQ9dy_KeVdANQ-OarLzJ0I5x\n"
     ]
    },
    {
     "data": {
      "text/plain": [
       "GoogleDriveFile({'id': '15vAPNCabqQ9dy_KeVdANQ-OarLzJ0I5x'})"
      ]
     },
     "execution_count": 25,
     "metadata": {
      "tags": []
     },
     "output_type": "execute_result"
    }
   ],
   "source": [
    "# Install the PyDrive wrapper & import libraries.\n",
    "# This only needs to be done once in a notebook.\n",
    "!pip install -U -q PyDrive\n",
    "from pydrive.auth import GoogleAuth\n",
    "from pydrive.drive import GoogleDrive\n",
    "from google.colab import auth\n",
    "from oauth2client.client import GoogleCredentials\n",
    "\n",
    "# Authenticate and create the PyDrive client.\n",
    "# This only needs to be done once in a notebook.\n",
    "auth.authenticate_user()\n",
    "gauth = GoogleAuth()\n",
    "gauth.credentials = GoogleCredentials.get_application_default()\n",
    "drive = GoogleDrive(gauth)\n",
    "\n",
    "# Create & upload a text file.\n",
    "uploaded = drive.CreateFile({'title': 'Trained Data'})\n",
    "uploaded.SetContentFile('data_lm.pkl')\n",
    "uploaded.Upload()\n",
    "print('Uploaded file with ID {}'.format(uploaded.get('id')))\n",
    "\n",
    "# Download to google drive\n",
    "drive.CreateFile({'id': uploaded.get('id')})"
   ]
  },
  {
   "cell_type": "markdown",
   "metadata": {
    "colab_type": "text",
    "id": "geTzWCX1QXgC"
   },
   "source": [
    "## Language Model Learner"
   ]
  },
  {
   "cell_type": "code",
   "execution_count": 0,
   "metadata": {
    "colab": {},
    "colab_type": "code",
    "id": "Ckf5Rh7nQV94"
   },
   "outputs": [],
   "source": [
    "learn = language_model_learner(data_lm, AWD_LSTM, drop_mult=0.3)"
   ]
  },
  {
   "cell_type": "code",
   "execution_count": 44,
   "metadata": {
    "colab": {
     "base_uri": "https://localhost:8080/",
     "height": 34
    },
    "colab_type": "code",
    "id": "DHeBzsslQXOZ",
    "outputId": "a57ec855-81c0-48da-8870-8dba593aed29"
   },
   "outputs": [
    {
     "data": {
      "text/html": [],
      "text/plain": [
       "<IPython.core.display.HTML object>"
      ]
     },
     "metadata": {
      "tags": []
     },
     "output_type": "display_data"
    },
    {
     "name": "stdout",
     "output_type": "stream",
     "text": [
      "LR Finder is complete, type {learner_name}.recorder.plot() to see the graph.\n"
     ]
    }
   ],
   "source": [
    "learn.lr_find()"
   ]
  },
  {
   "cell_type": "code",
   "execution_count": 45,
   "metadata": {
    "colab": {
     "base_uri": "https://localhost:8080/",
     "height": 283
    },
    "colab_type": "code",
    "id": "yo-lG18sQkjS",
    "outputId": "c4c22a2a-eee1-484c-ddbb-91b5f44d2baf"
   },
   "outputs": [
    {
     "data": {
      "image/png": "[encoded data removed]",
      "text/plain": [
       "<Figure size 432x288 with 1 Axes>"
      ]
     },
     "metadata": {
      "tags": []
     },
     "output_type": "display_data"
    }
   ],
   "source": [
    "learn.recorder.plot()"
   ]
  },
  {
   "cell_type": "code",
   "execution_count": 46,
   "metadata": {
    "colab": {
     "base_uri": "https://localhost:8080/",
     "height": 80
    },
    "colab_type": "code",
    "id": "vYbb0cM5fKC6",
    "outputId": "78c35433-a781-4996-d8c1-fc95faed175d"
   },
   "outputs": [
    {
     "data": {
      "text/html": [
       "<table border=\"1\" class=\"dataframe\">\n",
       "  <thead>\n",
       "    <tr style=\"text-align: left;\">\n",
       "      <th>epoch</th>\n",
       "      <th>train_loss</th>\n",
       "      <th>valid_loss</th>\n",
       "      <th>accuracy</th>\n",
       "      <th>time</th>\n",
       "    </tr>\n",
       "  </thead>\n",
       "  <tbody>\n",
       "    <tr>\n",
       "      <td>0</td>\n",
       "      <td>3.530059</td>\n",
       "      <td>3.533904</td>\n",
       "      <td>0.367892</td>\n",
       "      <td>1:42:22</td>\n",
       "    </tr>\n",
       "  </tbody>\n",
       "</table>"
      ],
      "text/plain": [
       "<IPython.core.display.HTML object>"
      ]
     },
     "metadata": {
      "tags": []
     },
     "output_type": "display_data"
    }
   ],
   "source": [
    "learn.fit_one_cycle(1, 5e-2, moms=(0.8,0.7))"
   ]
  },
  {
   "cell_type": "code",
   "execution_count": 0,
   "metadata": {
    "colab": {},
    "colab_type": "code",
    "id": "R15UvfaHYpxw"
   },
   "outputs": [],
   "source": [
    "learn.save('fit_head')"
   ]
  },
  {
   "cell_type": "code",
   "execution_count": 0,
   "metadata": {
    "colab": {},
    "colab_type": "code",
    "id": "_CGjmDUVYqsu"
   },
   "outputs": [],
   "source": [
    "learn.load('fit_head');"
   ]
  },
  {
   "cell_type": "code",
   "execution_count": 0,
   "metadata": {
    "colab": {},
    "colab_type": "code",
    "id": "c8nG9WjdYtWd"
   },
   "outputs": [],
   "source": [
    "learn.unfreeze()"
   ]
  },
  {
   "cell_type": "code",
   "execution_count": 0,
   "metadata": {
    "colab": {
     "base_uri": "https://localhost:8080/",
     "height": 359
    },
    "colab_type": "code",
    "id": "RSGKVWYvYwgw",
    "outputId": "79be7a3b-ecb2-46d5-c935-fa88a6115f75"
   },
   "outputs": [
    {
     "data": {
      "text/html": [
       "<table border=\"1\" class=\"dataframe\">\n",
       "  <thead>\n",
       "    <tr style=\"text-align: left;\">\n",
       "      <th>epoch</th>\n",
       "      <th>train_loss</th>\n",
       "      <th>valid_loss</th>\n",
       "      <th>accuracy</th>\n",
       "      <th>time</th>\n",
       "    </tr>\n",
       "  </thead>\n",
       "  <tbody>\n",
       "    <tr>\n",
       "      <td>0</td>\n",
       "      <td>0.743639</td>\n",
       "      <td>0.727928</td>\n",
       "      <td>0.819190</td>\n",
       "      <td>01:05</td>\n",
       "    </tr>\n",
       "    <tr>\n",
       "      <td>1</td>\n",
       "      <td>0.734148</td>\n",
       "      <td>0.724386</td>\n",
       "      <td>0.820256</td>\n",
       "      <td>01:04</td>\n",
       "    </tr>\n",
       "    <tr>\n",
       "      <td>2</td>\n",
       "      <td>0.714891</td>\n",
       "      <td>0.718798</td>\n",
       "      <td>0.819083</td>\n",
       "      <td>01:05</td>\n",
       "    </tr>\n",
       "    <tr>\n",
       "      <td>3</td>\n",
       "      <td>0.697528</td>\n",
       "      <td>0.709952</td>\n",
       "      <td>0.820362</td>\n",
       "      <td>01:04</td>\n",
       "    </tr>\n",
       "    <tr>\n",
       "      <td>4</td>\n",
       "      <td>0.684154</td>\n",
       "      <td>0.702734</td>\n",
       "      <td>0.822175</td>\n",
       "      <td>01:04</td>\n",
       "    </tr>\n",
       "    <tr>\n",
       "      <td>5</td>\n",
       "      <td>0.676741</td>\n",
       "      <td>0.703850</td>\n",
       "      <td>0.822601</td>\n",
       "      <td>01:04</td>\n",
       "    </tr>\n",
       "    <tr>\n",
       "      <td>6</td>\n",
       "      <td>0.661864</td>\n",
       "      <td>0.704042</td>\n",
       "      <td>0.822495</td>\n",
       "      <td>01:04</td>\n",
       "    </tr>\n",
       "    <tr>\n",
       "      <td>7</td>\n",
       "      <td>0.666319</td>\n",
       "      <td>0.702129</td>\n",
       "      <td>0.820895</td>\n",
       "      <td>01:05</td>\n",
       "    </tr>\n",
       "    <tr>\n",
       "      <td>8</td>\n",
       "      <td>0.643020</td>\n",
       "      <td>0.701977</td>\n",
       "      <td>0.821428</td>\n",
       "      <td>01:04</td>\n",
       "    </tr>\n",
       "    <tr>\n",
       "      <td>9</td>\n",
       "      <td>0.646635</td>\n",
       "      <td>0.702175</td>\n",
       "      <td>0.821429</td>\n",
       "      <td>01:04</td>\n",
       "    </tr>\n",
       "  </tbody>\n",
       "</table>"
      ],
      "text/plain": [
       "<IPython.core.display.HTML object>"
      ]
     },
     "metadata": {
      "tags": []
     },
     "output_type": "display_data"
    }
   ],
   "source": [
    "learn.fit_one_cycle(10, 1e-3, moms=(0.8,0.7))"
   ]
  },
  {
   "cell_type": "code",
   "execution_count": 0,
   "metadata": {
    "colab": {},
    "colab_type": "code",
    "id": "JLxX7tplY0Ej"
   },
   "outputs": [],
   "source": [
    "learn.save('fine_tuned')"
   ]
  },
  {
   "cell_type": "code",
   "execution_count": 0,
   "metadata": {
    "colab": {},
    "colab_type": "code",
    "id": "Sh_aU_gDY0Vh"
   },
   "outputs": [],
   "source": [
    "learn.load('fine_tuned');"
   ]
  },
  {
   "cell_type": "code",
   "execution_count": 0,
   "metadata": {
    "colab": {},
    "colab_type": "code",
    "id": "BnGLU8UFY6Jk"
   },
   "outputs": [],
   "source": [
    "TEXT = \"Under the act\"\n",
    "N_WORDS = 40\n",
    "N_SENTENCES = 2"
   ]
  },
  {
   "cell_type": "code",
   "execution_count": 0,
   "metadata": {
    "colab": {
     "base_uri": "https://localhost:8080/",
     "height": 71
    },
    "colab_type": "code",
    "id": "z0EcRP7fY-Gg",
    "outputId": "435ad07d-436b-45ad-e47e-61b22a4ebe85"
   },
   "outputs": [
    {
     "name": "stdout",
     "output_type": "stream",
     "text": [
      "Under the act ] xxbos [ 2 39 9 389 ... 5 74 253 13 ] xxbos [ 2 39 9 259 ... 295 13 9 893 ] xxbos [ 2 39 9 340 ... 253 13 9 441 ] xxbos [ 2\n",
      "Under the act ] xxbos [ 2 39 9 354 ... 253 13 9 2387 ] xxbos [ 2 39 9 208 ... 5 74 253 13 ] xxbos [ 2 39 9 571 ... 5 74 253 13 ] xxbos [ 2\n"
     ]
    }
   ],
   "source": [
    "print(\"\\n\".join(learn.predict(TEXT, N_WORDS, temperature=0.75) for _ in range(N_SENTENCES)))"
   ]
  },
  {
   "cell_type": "code",
   "execution_count": 0,
   "metadata": {
    "colab": {
     "base_uri": "https://localhost:8080/",
     "height": 51
    },
    "colab_type": "code",
    "id": "_-hUDPKA74qS",
    "outputId": "caa329cf-d62c-4caf-9404-513ff6d048dd"
   },
   "outputs": [
    {
     "name": "stdout",
     "output_type": "stream",
     "text": [
      "\u001b[1m\u001b[37m8f2b58800e8d\u001b[m  Wed Apr 17 11:27:15 2019\n",
      "\u001b[36m[0]\u001b[m \u001b[34mTesla T4        \u001b[m |\u001b[1m\u001b[31m 72'C\u001b[m, \u001b[32m  0 %\u001b[m | \u001b[36m\u001b[1m\u001b[33m12905\u001b[m / \u001b[33m15079\u001b[m MB |\n"
     ]
    }
   ],
   "source": [
    "!gpustat"
   ]
  },
  {
   "cell_type": "code",
   "execution_count": 0,
   "metadata": {
    "colab": {},
    "colab_type": "code",
    "id": "kadHkzX_8GGX"
   },
   "outputs": [],
   "source": []
  }
 ],
 "metadata": {
  "accelerator": "GPU",
  "colab": {
   "collapsed_sections": [
    "njvkQaiwotWB"
   ],
   "include_colab_link": true,
   "name": "LanguageModelling.ipynb",
   "provenance": [],
   "toc_visible": true,
   "version": "0.3.2"
  },
  "kernelspec": {
   "display_name": "Python 3",
   "language": "python",
   "name": "python3"
  },
  "language_info": {
   "codemirror_mode": {
    "name": "ipython",
    "version": 3
   },
   "file_extension": ".py",
   "mimetype": "text/x-python",
   "name": "python",
   "nbconvert_exporter": "python",
   "pygments_lexer": "ipython3",
   "version": "3.7.0"
  }
 },
 "nbformat": 4,
 "nbformat_minor": 1
}
